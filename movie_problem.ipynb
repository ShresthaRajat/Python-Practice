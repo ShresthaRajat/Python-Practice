{
  "nbformat": 4,
  "nbformat_minor": 0,
  "metadata": {
    "colab": {
      "name": "movie_problem.ipynb",
      "provenance": [],
      "collapsed_sections": []
    },
    "kernelspec": {
      "name": "python3",
      "display_name": "Python 3"
    }
  },
  "cells": [
    {
      "cell_type": "markdown",
      "metadata": {
        "id": "OfcSeJzaSDZ4",
        "colab_type": "text"
      },
      "source": [
        "Calculate the maximum top rating movies that should be finished within 7 hrs"
      ]
    },
    {
      "cell_type": "code",
      "metadata": {
        "id": "7m-O-Z9MOMDd",
        "colab_type": "code",
        "outputId": "d367a9f9-2318-4156-de91-4115533005df",
        "colab": {
          "base_uri": "https://localhost:8080/",
          "height": 54
        }
      },
      "source": [
        "import random\n",
        "\n",
        "\n",
        "movies = {\"movie\"+str(i):[random.randint(1,3),random.randint(1,10)]  for i in range(100)}\n",
        "print(movies)"
      ],
      "execution_count": 0,
      "outputs": [
        {
          "output_type": "stream",
          "text": [
            "{'movie0': [3, 5], 'movie1': [3, 5], 'movie2': [1, 3], 'movie3': [3, 6], 'movie4': [3, 10], 'movie5': [1, 4], 'movie6': [2, 1], 'movie7': [1, 3], 'movie8': [1, 4], 'movie9': [3, 5], 'movie10': [3, 8], 'movie11': [3, 1], 'movie12': [2, 5], 'movie13': [1, 2], 'movie14': [2, 2], 'movie15': [3, 7], 'movie16': [2, 10], 'movie17': [3, 5], 'movie18': [3, 10], 'movie19': [2, 8], 'movie20': [2, 9], 'movie21': [1, 3], 'movie22': [1, 4], 'movie23': [1, 3], 'movie24': [1, 3], 'movie25': [3, 1], 'movie26': [3, 2], 'movie27': [1, 2], 'movie28': [1, 5], 'movie29': [3, 8], 'movie30': [1, 6], 'movie31': [2, 8], 'movie32': [1, 7], 'movie33': [1, 8], 'movie34': [2, 6], 'movie35': [3, 5], 'movie36': [1, 10], 'movie37': [3, 8], 'movie38': [3, 5], 'movie39': [2, 3], 'movie40': [3, 5], 'movie41': [2, 5], 'movie42': [2, 8], 'movie43': [1, 9], 'movie44': [1, 7], 'movie45': [2, 10], 'movie46': [1, 10], 'movie47': [3, 6], 'movie48': [1, 3], 'movie49': [1, 6], 'movie50': [3, 8], 'movie51': [2, 4], 'movie52': [1, 7], 'movie53': [1, 9], 'movie54': [3, 7], 'movie55': [1, 9], 'movie56': [1, 5], 'movie57': [2, 7], 'movie58': [3, 5], 'movie59': [1, 10], 'movie60': [2, 10], 'movie61': [2, 1], 'movie62': [2, 10], 'movie63': [1, 5], 'movie64': [3, 4], 'movie65': [2, 5], 'movie66': [2, 4], 'movie67': [3, 7], 'movie68': [2, 2], 'movie69': [2, 8], 'movie70': [2, 9], 'movie71': [3, 1], 'movie72': [3, 2], 'movie73': [2, 8], 'movie74': [2, 3], 'movie75': [1, 10], 'movie76': [2, 2], 'movie77': [2, 7], 'movie78': [3, 4], 'movie79': [3, 4], 'movie80': [3, 10], 'movie81': [3, 10], 'movie82': [1, 2], 'movie83': [3, 3], 'movie84': [1, 10], 'movie85': [2, 4], 'movie86': [2, 4], 'movie87': [1, 6], 'movie88': [3, 10], 'movie89': [2, 4], 'movie90': [1, 4], 'movie91': [3, 10], 'movie92': [2, 1], 'movie93': [3, 7], 'movie94': [3, 1], 'movie95': [3, 9], 'movie96': [3, 3], 'movie97': [3, 4], 'movie98': [1, 6], 'movie99': [3, 1]}\n"
          ],
          "name": "stdout"
        }
      ]
    },
    {
      "cell_type": "code",
      "metadata": {
        "id": "Q5EXTPGdSC0L",
        "colab_type": "code",
        "outputId": "024fac4a-4bd3-4c12-83b6-ac75ec374eb1",
        "colab": {
          "base_uri": "https://localhost:8080/",
          "height": 1000
        }
      },
      "source": [
        "total_movie_time = 0\n",
        "total_movie_rating = 0\n",
        "print(\"Movie    Length   Rating\")\n",
        "print(\"-------------------------\")\n",
        "for k,v in movies.items():\n",
        "    print(\"{}\\t {}\\t   {}\".format(k,v[0],v[1]))\n",
        "    total_movie_time = total_movie_time + v[0]\n",
        "    total_movie_rating = total_movie_rating + v[1]\n",
        "\n",
        "print(\"========================\")\n",
        "\n",
        "print(\"Total:  \",total_movie_time,\"      \",total_movie_rating)"
      ],
      "execution_count": 0,
      "outputs": [
        {
          "output_type": "stream",
          "text": [
            "Movie    Length   Rating\n",
            "-------------------------\n",
            "movie0\t 3\t   5\n",
            "movie1\t 3\t   5\n",
            "movie2\t 1\t   3\n",
            "movie3\t 3\t   6\n",
            "movie4\t 3\t   10\n",
            "movie5\t 1\t   4\n",
            "movie6\t 2\t   1\n",
            "movie7\t 1\t   3\n",
            "movie8\t 1\t   4\n",
            "movie9\t 3\t   5\n",
            "movie10\t 3\t   8\n",
            "movie11\t 3\t   1\n",
            "movie12\t 2\t   5\n",
            "movie13\t 1\t   2\n",
            "movie14\t 2\t   2\n",
            "movie15\t 3\t   7\n",
            "movie16\t 2\t   10\n",
            "movie17\t 3\t   5\n",
            "movie18\t 3\t   10\n",
            "movie19\t 2\t   8\n",
            "movie20\t 2\t   9\n",
            "movie21\t 1\t   3\n",
            "movie22\t 1\t   4\n",
            "movie23\t 1\t   3\n",
            "movie24\t 1\t   3\n",
            "movie25\t 3\t   1\n",
            "movie26\t 3\t   2\n",
            "movie27\t 1\t   2\n",
            "movie28\t 1\t   5\n",
            "movie29\t 3\t   8\n",
            "movie30\t 1\t   6\n",
            "movie31\t 2\t   8\n",
            "movie32\t 1\t   7\n",
            "movie33\t 1\t   8\n",
            "movie34\t 2\t   6\n",
            "movie35\t 3\t   5\n",
            "movie36\t 1\t   10\n",
            "movie37\t 3\t   8\n",
            "movie38\t 3\t   5\n",
            "movie39\t 2\t   3\n",
            "movie40\t 3\t   5\n",
            "movie41\t 2\t   5\n",
            "movie42\t 2\t   8\n",
            "movie43\t 1\t   9\n",
            "movie44\t 1\t   7\n",
            "movie45\t 2\t   10\n",
            "movie46\t 1\t   10\n",
            "movie47\t 3\t   6\n",
            "movie48\t 1\t   3\n",
            "movie49\t 1\t   6\n",
            "movie50\t 3\t   8\n",
            "movie51\t 2\t   4\n",
            "movie52\t 1\t   7\n",
            "movie53\t 1\t   9\n",
            "movie54\t 3\t   7\n",
            "movie55\t 1\t   9\n",
            "movie56\t 1\t   5\n",
            "movie57\t 2\t   7\n",
            "movie58\t 3\t   5\n",
            "movie59\t 1\t   10\n",
            "movie60\t 2\t   10\n",
            "movie61\t 2\t   1\n",
            "movie62\t 2\t   10\n",
            "movie63\t 1\t   5\n",
            "movie64\t 3\t   4\n",
            "movie65\t 2\t   5\n",
            "movie66\t 2\t   4\n",
            "movie67\t 3\t   7\n",
            "movie68\t 2\t   2\n",
            "movie69\t 2\t   8\n",
            "movie70\t 2\t   9\n",
            "movie71\t 3\t   1\n",
            "movie72\t 3\t   2\n",
            "movie73\t 2\t   8\n",
            "movie74\t 2\t   3\n",
            "movie75\t 1\t   10\n",
            "movie76\t 2\t   2\n",
            "movie77\t 2\t   7\n",
            "movie78\t 3\t   4\n",
            "movie79\t 3\t   4\n",
            "movie80\t 3\t   10\n",
            "movie81\t 3\t   10\n",
            "movie82\t 1\t   2\n",
            "movie83\t 3\t   3\n",
            "movie84\t 1\t   10\n",
            "movie85\t 2\t   4\n",
            "movie86\t 2\t   4\n",
            "movie87\t 1\t   6\n",
            "movie88\t 3\t   10\n",
            "movie89\t 2\t   4\n",
            "movie90\t 1\t   4\n",
            "movie91\t 3\t   10\n",
            "movie92\t 2\t   1\n",
            "movie93\t 3\t   7\n",
            "movie94\t 3\t   1\n",
            "movie95\t 3\t   9\n",
            "movie96\t 3\t   3\n",
            "movie97\t 3\t   4\n",
            "movie98\t 1\t   6\n",
            "movie99\t 3\t   1\n",
            "========================\n",
            "Total:   206        565\n"
          ],
          "name": "stdout"
        }
      ]
    },
    {
      "cell_type": "code",
      "metadata": {
        "id": "o-52cyWEOsrp",
        "colab_type": "code",
        "outputId": "15753e9e-bb54-480c-fa9b-4efc5354a733",
        "colab": {
          "base_uri": "https://localhost:8080/",
          "height": 134
        }
      },
      "source": [
        "given_time = 10\n",
        "\n",
        "\n",
        "choosing_random_movies_time = 0\n",
        "choosing_random_movies_rating = 0\n",
        "random_movies = {}\n",
        "while choosing_random_movies_time < given_time:\n",
        "    x = random.choice(list(movies.keys()))\n",
        "    choosing_random_movies_time = choosing_random_movies_time + (movies[x])[0]\n",
        "    random_movies[x] = movies[x]\n",
        "    choosing_random_movies_rating = choosing_random_movies_rating + movies[x][1]\n",
        "    print(x, movies[x])  \n",
        "\n",
        "print(choosing_random_movies_rating)\n",
        "# print(random_movies)"
      ],
      "execution_count": 0,
      "outputs": [
        {
          "output_type": "stream",
          "text": [
            "movie1 [3, 5]\n",
            "movie28 [1, 5]\n",
            "movie34 [2, 6]\n",
            "movie30 [1, 6]\n",
            "movie39 [2, 3]\n",
            "movie2 [1, 3]\n",
            "28\n"
          ],
          "name": "stdout"
        }
      ]
    },
    {
      "cell_type": "code",
      "metadata": {
        "id": "Yjl44YzqWWul",
        "colab_type": "code",
        "outputId": "f2b33bd6-9aec-4cce-9e4a-7646f0ec9080",
        "colab": {
          "base_uri": "https://localhost:8080/",
          "height": 54
        }
      },
      "source": [
        "# by ratio of rating to length\n",
        "\n",
        "density = {}\n",
        "for movie, rating_time in movies.items():\n",
        "    current_density = rating_time[1]/rating_time[0]\n",
        "    if current_density in density:\n",
        "        density[current_density].append(movie)\n",
        "    else:\n",
        "        density[current_density] = []\n",
        "        density[current_density].append(movie)\n",
        "\n",
        "print(density)"
      ],
      "execution_count": 0,
      "outputs": [
        {
          "output_type": "stream",
          "text": [
            "{1.6666666666666667: ['movie0', 'movie1', 'movie9', 'movie17', 'movie35', 'movie38', 'movie40', 'movie58'], 3.0: ['movie2', 'movie7', 'movie21', 'movie23', 'movie24', 'movie34', 'movie48', 'movie95'], 2.0: ['movie3', 'movie13', 'movie27', 'movie47', 'movie51', 'movie66', 'movie82', 'movie85', 'movie86', 'movie89'], 3.3333333333333335: ['movie4', 'movie18', 'movie80', 'movie81', 'movie88', 'movie91'], 4.0: ['movie5', 'movie8', 'movie19', 'movie22', 'movie31', 'movie42', 'movie69', 'movie73', 'movie90'], 0.5: ['movie6', 'movie61', 'movie92'], 2.6666666666666665: ['movie10', 'movie29', 'movie37', 'movie50'], 0.3333333333333333: ['movie11', 'movie25', 'movie71', 'movie94', 'movie99'], 2.5: ['movie12', 'movie41', 'movie65'], 1.0: ['movie14', 'movie68', 'movie76', 'movie83', 'movie96'], 2.3333333333333335: ['movie15', 'movie54', 'movie67', 'movie93'], 5.0: ['movie16', 'movie28', 'movie45', 'movie56', 'movie60', 'movie62', 'movie63'], 4.5: ['movie20', 'movie70'], 0.6666666666666666: ['movie26', 'movie72'], 6.0: ['movie30', 'movie49', 'movie87', 'movie98'], 7.0: ['movie32', 'movie44', 'movie52'], 8.0: ['movie33'], 10.0: ['movie36', 'movie46', 'movie59', 'movie75', 'movie84'], 1.5: ['movie39', 'movie74'], 9.0: ['movie43', 'movie53', 'movie55'], 3.5: ['movie57', 'movie77'], 1.3333333333333333: ['movie64', 'movie78', 'movie79', 'movie97']}\n"
          ],
          "name": "stdout"
        }
      ]
    },
    {
      "cell_type": "code",
      "metadata": {
        "id": "aAx8UaghVdG5",
        "colab_type": "code",
        "outputId": "b3905da8-7846-420c-b2b1-f78414ca7da7",
        "colab": {
          "base_uri": "https://localhost:8080/",
          "height": 390
        }
      },
      "source": [
        "for k,v in density.items():\n",
        "    print(k,v)"
      ],
      "execution_count": 0,
      "outputs": [
        {
          "output_type": "stream",
          "text": [
            "7.0 ['movie0', 'movie7', 'movie15', 'movie50', 'movie52', 'movie64', 'movie87', 'movie96']\n",
            "3.0 ['movie1', 'movie18', 'movie38', 'movie40', 'movie51', 'movie62', 'movie68', 'movie71', 'movie73', 'movie78', 'movie86', 'movie95']\n",
            "1.6666666666666667 ['movie2', 'movie33', 'movie61', 'movie63']\n",
            "2.0 ['movie3', 'movie8', 'movie25', 'movie59', 'movie79', 'movie85']\n",
            "1.0 ['movie4', 'movie11', 'movie42', 'movie43', 'movie56', 'movie74', 'movie75', 'movie77', 'movie84']\n",
            "10.0 ['movie5', 'movie9', 'movie44', 'movie88']\n",
            "0.5 ['movie6', 'movie30', 'movie45', 'movie53', 'movie55', 'movie65', 'movie97']\n",
            "8.0 ['movie10', 'movie14', 'movie80', 'movie99']\n",
            "4.0 ['movie12', 'movie13', 'movie29', 'movie34', 'movie37', 'movie39']\n",
            "1.3333333333333333 ['movie16', 'movie28']\n",
            "3.5 ['movie17', 'movie32', 'movie57']\n",
            "2.5 ['movie19', 'movie31', 'movie41', 'movie81', 'movie82', 'movie89']\n",
            "5.0 ['movie20', 'movie36', 'movie60', 'movie72', 'movie91', 'movie98']\n",
            "3.3333333333333335 ['movie21', 'movie66', 'movie76', 'movie94']\n",
            "6.0 ['movie22', 'movie58', 'movie67']\n",
            "0.6666666666666666 ['movie23', 'movie46', 'movie48', 'movie92']\n",
            "1.5 ['movie24', 'movie49']\n",
            "2.6666666666666665 ['movie26', 'movie27']\n",
            "9.0 ['movie35', 'movie47', 'movie54']\n",
            "4.5 ['movie69', 'movie90', 'movie93']\n",
            "0.3333333333333333 ['movie70', 'movie83']\n"
          ],
          "name": "stdout"
        }
      ]
    },
    {
      "cell_type": "code",
      "metadata": {
        "id": "NmmTvQbwSWR_",
        "colab_type": "code",
        "colab": {}
      },
      "source": [
        "for "
      ],
      "execution_count": 0,
      "outputs": []
    }
  ]
}