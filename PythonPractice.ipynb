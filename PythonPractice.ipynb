{
 "cells": [
  {
   "cell_type": "markdown",
   "metadata": {},
   "source": [
    "#### 1. Function to return the biggest positive integer that doesnt occur in A(list)"
   ]
  },
  {
   "cell_type": "code",
   "execution_count": 21,
   "metadata": {},
   "outputs": [
    {
     "name": "stdout",
     "output_type": "stream",
     "text": [
      "97\n"
     ]
    }
   ],
   "source": [
    "A = [-1,-5,-7,98,99,100]\n",
    "def max(A):\n",
    "    for j in range(1, len(A)):\n",
    "        for i in range(A[-1], 0, -1):\n",
    "            if (i == A[-j]):\n",
    "                A.pop(A.index(i))\n",
    "            else:\n",
    "                return(i)\n",
    "    return(1)        \n",
    "print(max(A))"
   ]
  },
  {
   "cell_type": "markdown",
   "metadata": {},
   "source": [
    "####    2. Program that reverse the alphabets but puts other character in their original index"
   ]
  },
  {
   "cell_type": "code",
   "execution_count": 22,
   "metadata": {},
   "outputs": [
    {
     "name": "stdout",
     "output_type": "stream",
     "text": [
      "abcd5ef7\n",
      "fedc5ba7\n"
     ]
    }
   ],
   "source": [
    "a = 'abcd5ef7'\n",
    "b = []\n",
    "d = {}\n",
    "for i in a:\n",
    "    if (i>='a' and i<= 'z') or (i>='A' and i<='Z'):\n",
    "        b.insert(0, i)\n",
    "    else:\n",
    "        d[a.index(i)] = i\n",
    "for k, v in d.items():\n",
    "    b.insert(k, v)\n",
    "print(a)\n",
    "print(''.join(b))"
   ]
  },
  {
   "cell_type": "markdown",
   "metadata": {},
   "source": [
    "####   3. Escape characters "
   ]
  },
  {
   "cell_type": "code",
   "execution_count": 23,
   "metadata": {},
   "outputs": [
    {
     "name": "stdout",
     "output_type": "stream",
     "text": [
      "' '' \" \"()[]{} \"\"\"\n"
     ]
    }
   ],
   "source": [
    "print(\"\\' \\'' \\\" \\\"()[]{} \\\"\\\"\\\"\")"
   ]
  },
  {
   "cell_type": "markdown",
   "metadata": {},
   "source": [
    "####   4. Matrix addition in 2D array"
   ]
  },
  {
   "cell_type": "code",
   "execution_count": 26,
   "metadata": {},
   "outputs": [
    {
     "name": "stdout",
     "output_type": "stream",
     "text": [
      "[[2, 2], [2, 9]]\n"
     ]
    }
   ],
   "source": [
    "A = [[1,1], [1,1]]\n",
    "B = [[1,1], [1,8]]\n",
    "C = [[0,0], [0,0]]\n",
    "\n",
    "for r in range(len(A)):\n",
    "    for c in range(len(A[0])):\n",
    "        C[r][c] = (A[r][c] + B[r][c])\n",
    "        \n",
    "print(C)"
   ]
  },
  {
   "cell_type": "markdown",
   "metadata": {},
   "source": [
    "####  5.Sum of digits in a number (recursive)"
   ]
  },
  {
   "cell_type": "code",
   "execution_count": 19,
   "metadata": {},
   "outputs": [
    {
     "name": "stdout",
     "output_type": "stream",
     "text": [
      "4\n"
     ]
    }
   ],
   "source": [
    "def rsum(a):\n",
    "    if a == 0:\n",
    "        return(0)\n",
    "    return (a % 10 + rsum(int(a / 10)))\n",
    "a = 12345       \n",
    "print(rsum(1111))"
   ]
  },
  {
   "cell_type": "markdown",
   "metadata": {},
   "source": [
    "####  6.Node for Linked List"
   ]
  },
  {
   "cell_type": "code",
   "execution_count": 27,
   "metadata": {},
   "outputs": [
    {
     "name": "stdout",
     "output_type": "stream",
     "text": [
      "10 22\n"
     ]
    }
   ],
   "source": [
    "class Node:\n",
    "    def __init__(self, value):\n",
    "        self.value = value\n",
    "        self.next = None\n",
    "node1 = Node(10)\n",
    "node2 = Node(22)\n",
    "node3 = Node(30)\n",
    "\n",
    "node1.next = (node2)\n",
    "node2.next = node3\n",
    "\n",
    "print(node1.value, node1.next.value)"
   ]
  },
  {
   "cell_type": "markdown",
   "metadata": {},
   "source": [
    "####  7. Stack"
   ]
  },
  {
   "cell_type": "code",
   "execution_count": 33,
   "metadata": {},
   "outputs": [
    {
     "name": "stdout",
     "output_type": "stream",
     "text": [
      "B\n",
      "B\n",
      "A\n",
      "1\n",
      "None\n",
      "None\n"
     ]
    }
   ],
   "source": [
    "class Stack:\n",
    "    def __init__(self):\n",
    "        self.stack = []\n",
    "        \n",
    "    def pop(self):\n",
    "        if len(self.stack) == 0:\n",
    "            return None\n",
    "        return self.stack.pop()\n",
    "    \n",
    "    def push(self, val):\n",
    "        return self.stack.append(val)\n",
    "    \n",
    "    def peak(self):\n",
    "        if len(self.stack) == 0:\n",
    "            return None\n",
    "        return self.stack[-1]\n",
    "        \n",
    "stack = Stack()\n",
    "stack.push(1)\n",
    "stack.push(\"A\")\n",
    "stack.push(\"B\")\n",
    "\n",
    "print(stack.peak())\n",
    "print(stack.pop())\n",
    "print(stack.pop())\n",
    "print(stack.pop())\n",
    "print(stack.pop())\n",
    "print(stack.peak())"
   ]
  },
  {
   "cell_type": "markdown",
   "metadata": {},
   "source": [
    "####  8. Queue"
   ]
  },
  {
   "cell_type": "code",
   "execution_count": 28,
   "metadata": {},
   "outputs": [
    {
     "name": "stdout",
     "output_type": "stream",
     "text": [
      "1\n",
      "13\n"
     ]
    }
   ],
   "source": [
    "class Queue:\n",
    "    def __init__(self):\n",
    "        self.queue = []\n",
    "    \n",
    "    def enQ(self, value):\n",
    "        self.queue.insert(0, value)\n",
    "    \n",
    "    def deQ(self):\n",
    "        if (len(self.queue) > 0):\n",
    "            return self.queue.pop()\n",
    "        return None\n",
    "    \n",
    "\n",
    "qq = Queue()\n",
    "qq.enQ(1)\n",
    "qq.enQ(13)\n",
    "qq.enQ(12)\n",
    "\n",
    "print(qq.deQ())\n",
    "print(qq.deQ())"
   ]
  },
  {
   "cell_type": "markdown",
   "metadata": {},
   "source": [
    "####  9. Nepal Flag pattern generator"
   ]
  },
  {
   "cell_type": "code",
   "execution_count": 32,
   "metadata": {},
   "outputs": [
    {
     "name": "stdout",
     "output_type": "stream",
     "text": [
      "k\n",
      "ka\n",
      "kat\n",
      "kath\n",
      "kathm\n",
      "kathma\n",
      "kathman\n",
      "kathmand\n",
      "kathmandu\n",
      "k\n",
      "ka\n",
      "kat\n",
      "kath\n",
      "kathm\n",
      "kathma\n",
      "kathman\n",
      "kathmand\n",
      "kathmandu\n",
      "k\n",
      "a\n",
      "t\n",
      "h\n",
      "m\n",
      "a\n",
      "n\n",
      "d\n",
      "u\n"
     ]
    }
   ],
   "source": [
    "a = 'kathmandu'\n",
    "b = ''\n",
    "c = ''\n",
    "for i in range(len(a)):\n",
    "    b+=a[i]\n",
    "    print(b)\n",
    "for i in range(len(a)):\n",
    "    c+=a[i]\n",
    "    print(c)\n",
    "\n",
    "for i in a:\n",
    "    print(i,)\n",
    "\n",
    "    "
   ]
  },
  {
   "cell_type": "markdown",
   "metadata": {},
   "source": [
    "#### 10. Program to print the middle letters of words in a string"
   ]
  },
  {
   "cell_type": "code",
   "execution_count": 34,
   "metadata": {},
   "outputs": [
    {
     "name": "stdout",
     "output_type": "stream",
     "text": [
      "ayamisla\n"
     ]
    }
   ],
   "source": [
    "s1 = \"a boy's name is blah\"\n",
    "l = s1.split(\" \")\n",
    "m = ''\n",
    "for i in l:\n",
    "    li = len(i)\n",
    "    if li == 1:\n",
    "        m+=i\n",
    "    elif li%2 == 1:\n",
    "        m+=i[int(li/2)]\n",
    "    else:\n",
    "        m+=i[int((li/2)-1)]\n",
    "        m+=i[int(li/2)]\n",
    "print(m)\n",
    "     "
   ]
  },
  {
   "cell_type": "markdown",
   "metadata": {},
   "source": [
    "####  11. Program to print the most repeated letter in a string"
   ]
  },
  {
   "cell_type": "code",
   "execution_count": 44,
   "metadata": {},
   "outputs": [
    {
     "name": "stdout",
     "output_type": "stream",
     "text": [
      "{'d': 5, 'f': 5, 's': 4, 'a': 2}\n",
      "f\n"
     ]
    }
   ],
   "source": [
    "S = 'dfsdfadsfsadfsdf'\n",
    "d = {}\n",
    "for i in S:\n",
    "    if i in d:\n",
    "        d[i]+=1\n",
    "    else:\n",
    "        d[i] = 1\n",
    "print(d)\n",
    "h=S[1]\n",
    "for k,v in d.items():\n",
    "    if v>d[h]: \n",
    "        h=k\n",
    "print(h)\n"
   ]
  },
  {
   "cell_type": "markdown",
   "metadata": {},
   "source": [
    "####  12. Modulus"
   ]
  },
  {
   "cell_type": "code",
   "execution_count": 46,
   "metadata": {},
   "outputs": [
    {
     "name": "stdout",
     "output_type": "stream",
     "text": [
      "1\n"
     ]
    }
   ],
   "source": [
    "print(1%2)"
   ]
  },
  {
   "cell_type": "markdown",
   "metadata": {},
   "source": [
    "####  13. Turtle"
   ]
  },
  {
   "cell_type": "code",
   "execution_count": 50,
   "metadata": {},
   "outputs": [],
   "source": [
    "import turtle\n",
    "\n",
    "def fun(y):\n",
    "\tturtle.reset()\n",
    "\tturtle.speed(0)\n",
    "\tfor i in range(200):\n",
    "\t\tturtle.fd(i)\n",
    "\t\tturtle.rt(y)\n",
    "fun(49)"
   ]
  },
  {
   "cell_type": "markdown",
   "metadata": {},
   "source": [
    "## Eydean"
   ]
  },
  {
   "cell_type": "markdown",
   "metadata": {},
   "source": [
    "### 1."
   ]
  },
  {
   "cell_type": "raw",
   "metadata": {},
   "source": [
    "You have the following string: 'hel8lo09'\n",
    "Separate the string into alphabets and integers.\n",
    "The result should be:'hello 809'"
   ]
  },
  {
   "cell_type": "code",
   "execution_count": 51,
   "metadata": {},
   "outputs": [
    {
     "name": "stdout",
     "output_type": "stream",
     "text": [
      "hello 809\n"
     ]
    }
   ],
   "source": [
    "a = 'hel8lo09'\n",
    "s = n = ''\n",
    "for i in a:\n",
    "    if (i>='a' and i<= 'z') or (i>='A' and i<='Z'):\n",
    "        n+=i\n",
    "    else:\n",
    "        s+=i\n",
    "print(n,s)"
   ]
  },
  {
   "cell_type": "markdown",
   "metadata": {},
   "source": [
    "### 2."
   ]
  },
  {
   "cell_type": "raw",
   "metadata": {},
   "source": [
    "These are countries in Asia: Nepal, India, China, and Cambodia. These are countries in Africa: Gabon, Nigeria, Senegal, and South Africa. \n",
    "i. Choose a data structure to separately store these countries. Explain your reasoning.\n",
    "ii. Due to a data entry mistake 'Bhutan' was added to Africa. Write a program to find Bhutan from Africa, remove it, and add it to Asia. \n",
    "iii. It was later discovered that there are further discrepencies between the groups. Write a program to find and print any other overlapping countries between the two groups."
   ]
  },
  {
   "cell_type": "code",
   "execution_count": 52,
   "metadata": {},
   "outputs": [
    {
     "name": "stdout",
     "output_type": "stream",
     "text": [
      "Bhutan\n"
     ]
    }
   ],
   "source": [
    "#1 Used two different arrays as Data Structure to store countries with respect to their continent \n",
    "Asia = ['Nepal', 'India', 'China', 'Cambodia']\n",
    "Africa = ['Gabon', 'Nigeria', 'Senegal', 'South Africa']\n",
    "\n",
    "\n",
    "#2 \n",
    "Africa.append('Bhutan')\n",
    "Africa.remove('Bhutan')\n",
    "Asia.append('Bhutan')\n",
    "\n",
    "\n",
    "# program to print any other overlapping countries between the two groups.\n",
    "Africa.append('Bhutan')\n",
    "for i in Asia:\n",
    "    for j in Africa:\n",
    "        if i == j:\n",
    "            print(i)\n",
    "            "
   ]
  },
  {
   "cell_type": "markdown",
   "metadata": {},
   "source": [
    "### 3."
   ]
  },
  {
   "cell_type": "raw",
   "metadata": {},
   "source": [
    "Find the first non repeating character in a given string.\n",
    "Return _ if all characters repeat at least once. \n",
    "For e.g. \n",
    "Input: abcbade \n",
    "Output: c\n",
    "Input: abcbcadede \n",
    "Output: _"
   ]
  },
  {
   "cell_type": "code",
   "execution_count": 54,
   "metadata": {},
   "outputs": [
    {
     "name": "stdout",
     "output_type": "stream",
     "text": [
      "_\n"
     ]
    }
   ],
   "source": [
    "def fun(a):\n",
    "    d = {}\n",
    "    for i in range(len(a)):\n",
    "        if a[i] in d:\n",
    "            d[a[i]] += 1 \n",
    "        else:\n",
    "            d[a[i]] = 1\n",
    "    for k,v in d.items():\n",
    "        if v == 1:\n",
    "            return(k)\n",
    "    return(\"_\")\n",
    "\n",
    "print(fun('asdasdasdd'))"
   ]
  },
  {
   "cell_type": "markdown",
   "metadata": {},
   "source": [
    "### 4."
   ]
  },
  {
   "cell_type": "raw",
   "metadata": {},
   "source": [
    "You have a 8x8 chess board. Write a program to map the board from chess convention to coordinates. For example, H6 should be printed as (7,6).\n",
    "\n",
    "Note: The x co-ordinate starts from 0, y co-ordinate starts from 1."
   ]
  },
  {
   "cell_type": "code",
   "execution_count": 57,
   "metadata": {},
   "outputs": [
    {
     "name": "stdout",
     "output_type": "stream",
     "text": [
      "A1 = [0, 1]\n",
      "A2 = [0, 2]\n",
      "A3 = [0, 3]\n",
      "A4 = [0, 4]\n",
      "A5 = [0, 5]\n",
      "A6 = [0, 6]\n",
      "A7 = [0, 7]\n",
      "A8 = [0, 8]\n",
      "B1 = [1, 1]\n",
      "B2 = [1, 2]\n",
      "B3 = [1, 3]\n",
      "B4 = [1, 4]\n",
      "B5 = [1, 5]\n",
      "B6 = [1, 6]\n",
      "B7 = [1, 7]\n",
      "B8 = [1, 8]\n",
      "C1 = [2, 1]\n",
      "C2 = [2, 2]\n",
      "C3 = [2, 3]\n",
      "C4 = [2, 4]\n",
      "C5 = [2, 5]\n",
      "C6 = [2, 6]\n",
      "C7 = [2, 7]\n",
      "C8 = [2, 8]\n",
      "D1 = [3, 1]\n",
      "D2 = [3, 2]\n",
      "D3 = [3, 3]\n",
      "D4 = [3, 4]\n",
      "D5 = [3, 5]\n",
      "D6 = [3, 6]\n",
      "D7 = [3, 7]\n",
      "D8 = [3, 8]\n",
      "E1 = [4, 1]\n",
      "E2 = [4, 2]\n",
      "E3 = [4, 3]\n",
      "E4 = [4, 4]\n",
      "E5 = [4, 5]\n",
      "E6 = [4, 6]\n",
      "E7 = [4, 7]\n",
      "E8 = [4, 8]\n",
      "F1 = [5, 1]\n",
      "F2 = [5, 2]\n",
      "F3 = [5, 3]\n",
      "F4 = [5, 4]\n",
      "F5 = [5, 5]\n",
      "F6 = [5, 6]\n",
      "F7 = [5, 7]\n",
      "F8 = [5, 8]\n",
      "G1 = [6, 1]\n",
      "G2 = [6, 2]\n",
      "G3 = [6, 3]\n",
      "G4 = [6, 4]\n",
      "G5 = [6, 5]\n",
      "G6 = [6, 6]\n",
      "G7 = [6, 7]\n",
      "G8 = [6, 8]\n",
      "H1 = [7, 1]\n",
      "H2 = [7, 2]\n",
      "H3 = [7, 3]\n",
      "H4 = [7, 4]\n",
      "H5 = [7, 5]\n",
      "H6 = [7, 6]\n",
      "H7 = [7, 7]\n",
      "H8 = [7, 8]\n"
     ]
    }
   ],
   "source": [
    "s = ['A', 'B', 'C', 'D', 'E', 'F', 'G', 'H']\n",
    "d = {}\n",
    "for x in range(8): \n",
    "    for y in range(1,9): d[s[x]+str(y)] = [x,y]\n",
    "\n",
    "for k in d.items(): print(k[0],'=',k[1])"
   ]
  },
  {
   "cell_type": "markdown",
   "metadata": {},
   "source": [
    "### 5."
   ]
  },
  {
   "cell_type": "raw",
   "metadata": {},
   "source": [
    "You are programming a token dispenser for Kathmandu Metro Railway. \n",
    "There are three stations on the railway line and the token costs are as follows:\n",
    "\n",
    "Route 1, Kalanki - Tinkune : NRs. 40\n",
    "Route 2, Kalanki - Ratnapark: NRs. 30\n",
    "Route 3: Tinkune - Ratnapark: NRs. 35\n",
    "\n",
    "The token dispensor accepts the following notes:\n",
    "5,10,20,50,100\n",
    "\n",
    "Write a program for a dispensor located in Ratnapark that takes as input the route and aforementioned notes, and returns the token and appropriate change. \n",
    "Examples:\n",
    "passenger selects Route 3, and inserts NRs.50, the output is as follows:\n",
    "\n",
    "Token dispensed.\n",
    "Change: NRs.15 \n",
    "Notes: NRs.10, NRs.5 \n",
    "passenger selects Route 2, and inserts NRs.20, the output is asfollows:\n",
    "\n",
    "Token not dispensed.\n",
    "Remaining: NRs.10 \n",
    "passenger selects Route 1, and inserts NRs.100, the output is as follows:\n",
    "\n",
    "Route unavailable."
   ]
  },
  {
   "cell_type": "code",
   "execution_count": 65,
   "metadata": {},
   "outputs": [
    {
     "name": "stdout",
     "output_type": "stream",
     "text": [
      "Route unavailable or insufficient amount.\n",
      "Try again\n"
     ]
    }
   ],
   "source": [
    "def change(a,b):\n",
    "    c = a-b\n",
    "    d = [100,50,20,10,5]\n",
    "    print('Token dispensed.\\n\\nChange \\t  =  Rs. ' ,(a-b),'\\n')\n",
    "    print('notes:\\t\\tamount')\n",
    "    for k in d:\n",
    "        x = int(c/k)\n",
    "        if (x >= 1):\n",
    "            c=c-k*x\n",
    "            print(\"NRs\",k,  \"  \\t= \"  , x)\n",
    "\n",
    "def passenger(route, amount):\n",
    "    if (route == 2 and amount >= 30):\n",
    "        change(amount,30)\n",
    "    elif (route == 3 and amount >= 35):\n",
    "        change(amount,35)\n",
    "    else:\n",
    "        print('Route unavailable or insufficient amount.')\n",
    "        print('Try again')\n",
    "\n",
    "passenger(3,9325)"
   ]
  }
 ],
 "metadata": {
  "kernelspec": {
   "display_name": "Python 3",
   "language": "python",
   "name": "python3"
  },
  "language_info": {
   "codemirror_mode": {
    "name": "ipython",
    "version": 3
   },
   "file_extension": ".py",
   "mimetype": "text/x-python",
   "name": "python",
   "nbconvert_exporter": "python",
   "pygments_lexer": "ipython3",
   "version": "3.7.3"
  }
 },
 "nbformat": 4,
 "nbformat_minor": 2
}
