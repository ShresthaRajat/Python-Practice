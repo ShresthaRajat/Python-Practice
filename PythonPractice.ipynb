{
  "nbformat": 4,
  "nbformat_minor": 0,
  "metadata": {
    "kernelspec": {
      "display_name": "Python 3",
      "language": "python",
      "name": "python3"
    },
    "language_info": {
      "codemirror_mode": {
        "name": "ipython",
        "version": 3
      },
      "file_extension": ".py",
      "mimetype": "text/x-python",
      "name": "python",
      "nbconvert_exporter": "python",
      "pygments_lexer": "ipython3",
      "version": "3.7.3"
    },
    "colab": {
      "name": "PythonPractice.ipynb",
      "provenance": [],
      "collapsed_sections": []
    }
  },
  "cells": [
    {
      "cell_type": "markdown",
      "metadata": {
        "id": "iYf-VTotWvC4",
        "colab_type": "text"
      },
      "source": [
        "#### 1. Function to return the biggest positive integer that doesnt occur in A(list)"
      ]
    },
    {
      "cell_type": "code",
      "metadata": {
        "id": "603jQdNlWvC5",
        "colab_type": "code",
        "outputId": "10398427-a284-4294-bcc6-46af937e16c0",
        "colab": {
          "base_uri": "https://localhost:8080/",
          "height": 35
        }
      },
      "source": [
        "A = [-1,-5,-7,98,99,100]\n",
        "def max(A):\n",
        "    for j in range(1, len(A)):\n",
        "        for i in range(A[-1], 0, -1):\n",
        "            if (i == A[-j]):\n",
        "                A.pop(A.index(i))\n",
        "            else:\n",
        "                return(i)\n",
        "    return(1)        \n",
        "print(max(A))"
      ],
      "execution_count": 0,
      "outputs": [
        {
          "output_type": "stream",
          "text": [
            "97\n"
          ],
          "name": "stdout"
        }
      ]
    },
    {
      "cell_type": "markdown",
      "metadata": {
        "id": "fEMTwPI9WvC9",
        "colab_type": "text"
      },
      "source": [
        "####    2. Program that reverse the alphabets but puts other character in their original index"
      ]
    },
    {
      "cell_type": "code",
      "metadata": {
        "id": "eCWb0ZGXWvC-",
        "colab_type": "code",
        "outputId": "48b1304a-dabd-4036-f882-10d961033c7c",
        "colab": {
          "base_uri": "https://localhost:8080/",
          "height": 52
        }
      },
      "source": [
        "a = 'abcd5ef7'\n",
        "b = []\n",
        "d = {}\n",
        "for i in a:\n",
        "    if (i>='a' and i<= 'z') or (i>='A' and i<='Z'):\n",
        "        b.insert(0, i)\n",
        "    else:\n",
        "        d[a.index(i)] = i\n",
        "for k, v in d.items():\n",
        "    b.insert(k, v)\n",
        "print(a)\n",
        "print(''.join(b))"
      ],
      "execution_count": 0,
      "outputs": [
        {
          "output_type": "stream",
          "text": [
            "abcd5ef7\n",
            "fedc5ba7\n"
          ],
          "name": "stdout"
        }
      ]
    },
    {
      "cell_type": "markdown",
      "metadata": {
        "id": "k21czFHUWvDA",
        "colab_type": "text"
      },
      "source": [
        "####   3. Escape characters "
      ]
    },
    {
      "cell_type": "code",
      "metadata": {
        "id": "GvMrsH0-WvDA",
        "colab_type": "code",
        "outputId": "e4f97fd0-1a04-4642-847e-4b8df5d44ec6",
        "colab": {}
      },
      "source": [
        "print(\"\\' \\'' \\\" \\\"()[]{} \\\"\\\"\\\"\")"
      ],
      "execution_count": 0,
      "outputs": [
        {
          "output_type": "stream",
          "text": [
            "' '' \" \"()[]{} \"\"\"\n"
          ],
          "name": "stdout"
        }
      ]
    },
    {
      "cell_type": "markdown",
      "metadata": {
        "id": "QBEbrVYXWvDC",
        "colab_type": "text"
      },
      "source": [
        "####   4. Matrix addition in 2D array"
      ]
    },
    {
      "cell_type": "code",
      "metadata": {
        "id": "nWoNrOt3WvDD",
        "colab_type": "code",
        "outputId": "29aca9af-6d3d-4c01-d8de-0cdc9104d975",
        "colab": {
          "base_uri": "https://localhost:8080/",
          "height": 35
        }
      },
      "source": [
        "A = [[1,1], [1,1]]\n",
        "B = [[1,1], [1,8]]\n",
        "C = [[0,0], [0,0]]\n",
        "\n",
        "for r in range(len(A)):\n",
        "    for c in range(len(A[0])):\n",
        "        C[r][c] = (A[r][c] + B[r][c])\n",
        "        \n",
        "print(C)"
      ],
      "execution_count": 0,
      "outputs": [
        {
          "output_type": "stream",
          "text": [
            "[[2, 2], [2, 9]]\n"
          ],
          "name": "stdout"
        }
      ]
    },
    {
      "cell_type": "markdown",
      "metadata": {
        "id": "xKm8l2hgWvDF",
        "colab_type": "text"
      },
      "source": [
        "####  5.Sum of digits in a number (recursive)"
      ]
    },
    {
      "cell_type": "code",
      "metadata": {
        "id": "MwvysuudWvDF",
        "colab_type": "code",
        "outputId": "1df65d79-1f82-454b-d903-beae4416bb9a",
        "colab": {
          "base_uri": "https://localhost:8080/",
          "height": 35
        }
      },
      "source": [
        "def rsum(a):\n",
        "    if a == 0:\n",
        "        return(0)\n",
        "    return (a % 10 + rsum(int(a / 10)))\n",
        "a = 12345       \n",
        "print(rsum(1111))"
      ],
      "execution_count": 0,
      "outputs": [
        {
          "output_type": "stream",
          "text": [
            "4\n"
          ],
          "name": "stdout"
        }
      ]
    },
    {
      "cell_type": "markdown",
      "metadata": {
        "id": "_hkBbKxkWvDI",
        "colab_type": "text"
      },
      "source": [
        "####  6.Node for Linked List"
      ]
    },
    {
      "cell_type": "code",
      "metadata": {
        "id": "IybtLMimWvDI",
        "colab_type": "code",
        "outputId": "0234bd74-a61d-4bd2-cd84-6c224a9692d1",
        "colab": {}
      },
      "source": [
        "class Node:\n",
        "    def __init__(self, value):\n",
        "        self.value = value\n",
        "        self.next = None\n",
        "node1 = Node(10)\n",
        "node2 = Node(22)\n",
        "node3 = Node(30)\n",
        "\n",
        "node1.next = (node2)\n",
        "node2.next = node3\n",
        "\n",
        "print(node1.value, node1.next.value)"
      ],
      "execution_count": 0,
      "outputs": [
        {
          "output_type": "stream",
          "text": [
            "10 22\n"
          ],
          "name": "stdout"
        }
      ]
    },
    {
      "cell_type": "markdown",
      "metadata": {
        "id": "NPxo3cVnWvDL",
        "colab_type": "text"
      },
      "source": [
        "####  7. Stack"
      ]
    },
    {
      "cell_type": "code",
      "metadata": {
        "id": "Gc9sm-clWvDL",
        "colab_type": "code",
        "outputId": "72d59e5d-8e73-4691-e33d-d0ac5e6d7800",
        "colab": {}
      },
      "source": [
        "class Stack:\n",
        "    def __init__(self):\n",
        "        self.stack = []\n",
        "        \n",
        "    def pop(self):\n",
        "        if len(self.stack) == 0:\n",
        "            return None\n",
        "        return self.stack.pop()\n",
        "    \n",
        "    def push(self, val):\n",
        "        return self.stack.append(val)\n",
        "    \n",
        "    def peak(self):\n",
        "        if len(self.stack) == 0:\n",
        "            return None\n",
        "        return self.stack[-1]\n",
        "        \n",
        "stack = Stack()\n",
        "stack.push(1)\n",
        "stack.push(\"A\")\n",
        "stack.push(\"B\")\n",
        "\n",
        "print(stack.peak())\n",
        "print(stack.pop())\n",
        "print(stack.pop())\n",
        "print(stack.pop())\n",
        "print(stack.pop())\n",
        "print(stack.peak())"
      ],
      "execution_count": 0,
      "outputs": [
        {
          "output_type": "stream",
          "text": [
            "B\n",
            "B\n",
            "A\n",
            "1\n",
            "None\n",
            "None\n"
          ],
          "name": "stdout"
        }
      ]
    },
    {
      "cell_type": "markdown",
      "metadata": {
        "id": "L1COfRgTWvDN",
        "colab_type": "text"
      },
      "source": [
        "####  8. Queue"
      ]
    },
    {
      "cell_type": "code",
      "metadata": {
        "id": "BgqNH-AyWvDN",
        "colab_type": "code",
        "outputId": "80a0c940-d154-4f16-bdc1-999a762742f3",
        "colab": {}
      },
      "source": [
        "class Queue:\n",
        "    def __init__(self):\n",
        "        self.queue = []\n",
        "    \n",
        "    def enQ(self, value):\n",
        "        self.queue.insert(0, value)\n",
        "    \n",
        "    def deQ(self):\n",
        "        if (len(self.queue) > 0):\n",
        "            return self.queue.pop()\n",
        "        return None\n",
        "    \n",
        "\n",
        "qq = Queue()\n",
        "qq.enQ(1)\n",
        "qq.enQ(13)\n",
        "qq.enQ(12)\n",
        "\n",
        "print(qq.deQ())\n",
        "print(qq.deQ())"
      ],
      "execution_count": 0,
      "outputs": [
        {
          "output_type": "stream",
          "text": [
            "1\n",
            "13\n"
          ],
          "name": "stdout"
        }
      ]
    },
    {
      "cell_type": "markdown",
      "metadata": {
        "id": "nwtICyD1WvDP",
        "colab_type": "text"
      },
      "source": [
        "####  9. Nepal Flag pattern generator"
      ]
    },
    {
      "cell_type": "code",
      "metadata": {
        "id": "ufAk-f4PWvDQ",
        "colab_type": "code",
        "outputId": "ec29ea2c-36c5-4562-c6c3-e327d6b9dc81",
        "colab": {}
      },
      "source": [
        "a = 'kathmandu'\n",
        "b = ''\n",
        "c = ''\n",
        "for i in range(len(a)):\n",
        "    b+=a[i]\n",
        "    print(b)\n",
        "for i in range(len(a)):\n",
        "    c+=a[i]\n",
        "    print(c)\n",
        "\n",
        "for i in a:\n",
        "    print(i,)\n",
        "\n",
        "    "
      ],
      "execution_count": 0,
      "outputs": [
        {
          "output_type": "stream",
          "text": [
            "k\n",
            "ka\n",
            "kat\n",
            "kath\n",
            "kathm\n",
            "kathma\n",
            "kathman\n",
            "kathmand\n",
            "kathmandu\n",
            "k\n",
            "ka\n",
            "kat\n",
            "kath\n",
            "kathm\n",
            "kathma\n",
            "kathman\n",
            "kathmand\n",
            "kathmandu\n",
            "k\n",
            "a\n",
            "t\n",
            "h\n",
            "m\n",
            "a\n",
            "n\n",
            "d\n",
            "u\n"
          ],
          "name": "stdout"
        }
      ]
    },
    {
      "cell_type": "markdown",
      "metadata": {
        "id": "5LzA0jMlWvDS",
        "colab_type": "text"
      },
      "source": [
        "#### 10. Program to print the middle letters of words in a string"
      ]
    },
    {
      "cell_type": "code",
      "metadata": {
        "id": "Gi-KYcOYWvDS",
        "colab_type": "code",
        "outputId": "2ac60ada-8ecf-4691-ed22-fdd6437931d2",
        "colab": {}
      },
      "source": [
        "s1 = \"a boy's name is blah\"\n",
        "l = s1.split(\" \")\n",
        "m = ''\n",
        "for i in l:\n",
        "    li = len(i)\n",
        "    if li == 1:\n",
        "        m+=i\n",
        "    elif li%2 == 1:\n",
        "        m+=i[int(li/2)]\n",
        "    else:\n",
        "        m+=i[int((li/2)-1)]\n",
        "        m+=i[int(li/2)]\n",
        "print(m)\n",
        "     "
      ],
      "execution_count": 0,
      "outputs": [
        {
          "output_type": "stream",
          "text": [
            "ayamisla\n"
          ],
          "name": "stdout"
        }
      ]
    },
    {
      "cell_type": "markdown",
      "metadata": {
        "id": "7_driNLbWvDV",
        "colab_type": "text"
      },
      "source": [
        "####  11. Program to print the most repeated letter in a string"
      ]
    },
    {
      "cell_type": "code",
      "metadata": {
        "id": "TIUaY6dBWvDV",
        "colab_type": "code",
        "outputId": "d8897ba1-11de-41fd-c2d9-63e6be570220",
        "colab": {}
      },
      "source": [
        "S = 'dfsdfadsfsadfsdf'\n",
        "d = {}\n",
        "for i in S:\n",
        "    if i in d:\n",
        "        d[i]+=1\n",
        "    else:\n",
        "        d[i] = 1\n",
        "print(d)\n",
        "h=S[1]\n",
        "for k,v in d.items():\n",
        "    if v>d[h]: \n",
        "        h=k\n",
        "print(h)\n"
      ],
      "execution_count": 0,
      "outputs": [
        {
          "output_type": "stream",
          "text": [
            "{'d': 5, 'f': 5, 's': 4, 'a': 2}\n",
            "f\n"
          ],
          "name": "stdout"
        }
      ]
    },
    {
      "cell_type": "markdown",
      "metadata": {
        "id": "285pxws9WvDX",
        "colab_type": "text"
      },
      "source": [
        "####  12. Modulus"
      ]
    },
    {
      "cell_type": "code",
      "metadata": {
        "id": "uYgcw7TYWvDX",
        "colab_type": "code",
        "outputId": "9cc21b57-c655-4b82-da38-82a90cffb4ac",
        "colab": {}
      },
      "source": [
        "print(1%2)"
      ],
      "execution_count": 0,
      "outputs": [
        {
          "output_type": "stream",
          "text": [
            "1\n"
          ],
          "name": "stdout"
        }
      ]
    },
    {
      "cell_type": "markdown",
      "metadata": {
        "id": "mn-IAFjfWvDZ",
        "colab_type": "text"
      },
      "source": [
        "####  13. Turtle"
      ]
    },
    {
      "cell_type": "code",
      "metadata": {
        "id": "fldW44NHWvDa",
        "colab_type": "code",
        "colab": {}
      },
      "source": [
        "import turtle\n",
        "\n",
        "def fun(y):\n",
        "\tturtle.reset()\n",
        "\tturtle.speed(0)\n",
        "\tfor i in range(200):\n",
        "\t\tturtle.fd(i)\n",
        "\t\tturtle.rt(y)\n",
        "fun(49)"
      ],
      "execution_count": 0,
      "outputs": []
    },
    {
      "cell_type": "markdown",
      "metadata": {
        "id": "cGZCZjFIWvDc",
        "colab_type": "text"
      },
      "source": [
        "## Eydean"
      ]
    },
    {
      "cell_type": "markdown",
      "metadata": {
        "id": "O0P355GQWvDc",
        "colab_type": "text"
      },
      "source": [
        "### 1."
      ]
    },
    {
      "cell_type": "markdown",
      "metadata": {
        "id": "I5sOy549WvDc",
        "colab_type": "raw"
      },
      "source": [
        "You have the following string: 'hel8lo09'\n",
        "Separate the string into alphabets and integers.\n",
        "The result should be:'hello 809'"
      ]
    },
    {
      "cell_type": "code",
      "metadata": {
        "id": "fNg29Ke6WvDd",
        "colab_type": "code",
        "outputId": "af8f230e-ac7f-4c76-b83f-ef763cc2f207",
        "colab": {}
      },
      "source": [
        "a = 'hel8lo09'\n",
        "s = n = ''\n",
        "for i in a:\n",
        "    if (i>='a' and i<= 'z') or (i>='A' and i<='Z'):\n",
        "        n+=i\n",
        "    else:\n",
        "        s+=i\n",
        "print(n,s)"
      ],
      "execution_count": 0,
      "outputs": [
        {
          "output_type": "stream",
          "text": [
            "hello 809\n"
          ],
          "name": "stdout"
        }
      ]
    },
    {
      "cell_type": "markdown",
      "metadata": {
        "id": "BjOX4qtnWvDf",
        "colab_type": "text"
      },
      "source": [
        "### 2."
      ]
    },
    {
      "cell_type": "markdown",
      "metadata": {
        "id": "2HF1k2CZWvDg",
        "colab_type": "raw"
      },
      "source": [
        "These are countries in Asia: Nepal, India, China, and Cambodia. These are countries in Africa: Gabon, Nigeria, Senegal, and South Africa. \n",
        "i. Choose a data structure to separately store these countries. Explain your reasoning.\n",
        "ii. Due to a data entry mistake 'Bhutan' was added to Africa. Write a program to find Bhutan from Africa, remove it, and add it to Asia. \n",
        "iii. It was later discovered that there are further discrepencies between the groups. Write a program to find and print any other overlapping countries between the two groups."
      ]
    },
    {
      "cell_type": "code",
      "metadata": {
        "id": "uuf8OVwLWvDh",
        "colab_type": "code",
        "outputId": "bbed37e0-a595-47f8-a4f4-7a2bff6dd254",
        "colab": {}
      },
      "source": [
        "#1 Used two different arrays as Data Structure to store countries with respect to their continent \n",
        "Asia = ['Nepal', 'India', 'China', 'Cambodia']\n",
        "Africa = ['Gabon', 'Nigeria', 'Senegal', 'South Africa']\n",
        "\n",
        "\n",
        "#2 \n",
        "Africa.append('Bhutan')\n",
        "Africa.remove('Bhutan')\n",
        "Asia.append('Bhutan')\n",
        "\n",
        "\n",
        "# program to print any other overlapping countries between the two groups.\n",
        "Africa.append('Bhutan')\n",
        "for i in Asia:\n",
        "    for j in Africa:\n",
        "        if i == j:\n",
        "            print(i)\n",
        "            "
      ],
      "execution_count": 0,
      "outputs": [
        {
          "output_type": "stream",
          "text": [
            "Bhutan\n"
          ],
          "name": "stdout"
        }
      ]
    },
    {
      "cell_type": "markdown",
      "metadata": {
        "id": "__Lhf8qaWvDk",
        "colab_type": "text"
      },
      "source": [
        "### 3."
      ]
    },
    {
      "cell_type": "markdown",
      "metadata": {
        "id": "YPryyXIMWvDl",
        "colab_type": "raw"
      },
      "source": [
        "Find the first non repeating character in a given string.\n",
        "Return _ if all characters repeat at least once. \n",
        "For e.g. \n",
        "Input: abcbade \n",
        "Output: c\n",
        "Input: abcbcadede \n",
        "Output: _"
      ]
    },
    {
      "cell_type": "code",
      "metadata": {
        "id": "Q6F0UHQCWvDl",
        "colab_type": "code",
        "outputId": "b1d70209-36df-4068-812e-54ff10b022be",
        "colab": {}
      },
      "source": [
        "def fun(a):\n",
        "    d = {}\n",
        "    for i in range(len(a)):\n",
        "        if a[i] in d:\n",
        "            d[a[i]] += 1 \n",
        "        else:\n",
        "            d[a[i]] = 1\n",
        "    for k,v in d.items():\n",
        "        if v == 1:\n",
        "            return(k)\n",
        "    return(\"_\")\n",
        "\n",
        "print(fun('asdasdasdd'))"
      ],
      "execution_count": 0,
      "outputs": [
        {
          "output_type": "stream",
          "text": [
            "_\n"
          ],
          "name": "stdout"
        }
      ]
    },
    {
      "cell_type": "markdown",
      "metadata": {
        "id": "g2W7EJqgWvDn",
        "colab_type": "text"
      },
      "source": [
        "### 4."
      ]
    },
    {
      "cell_type": "markdown",
      "metadata": {
        "id": "e8NrSnvhWvDn",
        "colab_type": "raw"
      },
      "source": [
        "You have a 8x8 chess board. Write a program to map the board from chess convention to coordinates. For example, H6 should be printed as (7,6).\n",
        "\n",
        "Note: The x co-ordinate starts from 0, y co-ordinate starts from 1."
      ]
    },
    {
      "cell_type": "code",
      "metadata": {
        "id": "9PEVQ_9IWvDn",
        "colab_type": "code",
        "outputId": "28ea84a4-a9f1-4873-960e-d35ccaa66409",
        "colab": {}
      },
      "source": [
        "s = ['A', 'B', 'C', 'D', 'E', 'F', 'G', 'H']\n",
        "d = {}\n",
        "for x in range(8): \n",
        "    for y in range(1,9): d[s[x]+str(y)] = [x,y]\n",
        "\n",
        "for k in d.items(): print(k[0],'=',k[1])"
      ],
      "execution_count": 0,
      "outputs": [
        {
          "output_type": "stream",
          "text": [
            "A1 = [0, 1]\n",
            "A2 = [0, 2]\n",
            "A3 = [0, 3]\n",
            "A4 = [0, 4]\n",
            "A5 = [0, 5]\n",
            "A6 = [0, 6]\n",
            "A7 = [0, 7]\n",
            "A8 = [0, 8]\n",
            "B1 = [1, 1]\n",
            "B2 = [1, 2]\n",
            "B3 = [1, 3]\n",
            "B4 = [1, 4]\n",
            "B5 = [1, 5]\n",
            "B6 = [1, 6]\n",
            "B7 = [1, 7]\n",
            "B8 = [1, 8]\n",
            "C1 = [2, 1]\n",
            "C2 = [2, 2]\n",
            "C3 = [2, 3]\n",
            "C4 = [2, 4]\n",
            "C5 = [2, 5]\n",
            "C6 = [2, 6]\n",
            "C7 = [2, 7]\n",
            "C8 = [2, 8]\n",
            "D1 = [3, 1]\n",
            "D2 = [3, 2]\n",
            "D3 = [3, 3]\n",
            "D4 = [3, 4]\n",
            "D5 = [3, 5]\n",
            "D6 = [3, 6]\n",
            "D7 = [3, 7]\n",
            "D8 = [3, 8]\n",
            "E1 = [4, 1]\n",
            "E2 = [4, 2]\n",
            "E3 = [4, 3]\n",
            "E4 = [4, 4]\n",
            "E5 = [4, 5]\n",
            "E6 = [4, 6]\n",
            "E7 = [4, 7]\n",
            "E8 = [4, 8]\n",
            "F1 = [5, 1]\n",
            "F2 = [5, 2]\n",
            "F3 = [5, 3]\n",
            "F4 = [5, 4]\n",
            "F5 = [5, 5]\n",
            "F6 = [5, 6]\n",
            "F7 = [5, 7]\n",
            "F8 = [5, 8]\n",
            "G1 = [6, 1]\n",
            "G2 = [6, 2]\n",
            "G3 = [6, 3]\n",
            "G4 = [6, 4]\n",
            "G5 = [6, 5]\n",
            "G6 = [6, 6]\n",
            "G7 = [6, 7]\n",
            "G8 = [6, 8]\n",
            "H1 = [7, 1]\n",
            "H2 = [7, 2]\n",
            "H3 = [7, 3]\n",
            "H4 = [7, 4]\n",
            "H5 = [7, 5]\n",
            "H6 = [7, 6]\n",
            "H7 = [7, 7]\n",
            "H8 = [7, 8]\n"
          ],
          "name": "stdout"
        }
      ]
    },
    {
      "cell_type": "markdown",
      "metadata": {
        "id": "uKnuzO2NWvDp",
        "colab_type": "text"
      },
      "source": [
        "### 5."
      ]
    },
    {
      "cell_type": "markdown",
      "metadata": {
        "id": "m-XAONvyWvDp",
        "colab_type": "raw"
      },
      "source": [
        "You are programming a token dispenser for Kathmandu Metro Railway. \n",
        "There are three stations on the railway line and the token costs are as follows:\n",
        "\n",
        "Route 1, Kalanki - Tinkune : NRs. 40\n",
        "Route 2, Kalanki - Ratnapark: NRs. 30\n",
        "Route 3: Tinkune - Ratnapark: NRs. 35\n",
        "\n",
        "The token dispensor accepts the following notes:\n",
        "5,10,20,50,100\n",
        "\n",
        "Write a program for a dispensor located in Ratnapark that takes as input the route and aforementioned notes, and returns the token and appropriate change. \n",
        "Examples:\n",
        "passenger selects Route 3, and inserts NRs.50, the output is as follows:\n",
        "\n",
        "Token dispensed.\n",
        "Change: NRs.15 \n",
        "Notes: NRs.10, NRs.5 \n",
        "passenger selects Route 2, and inserts NRs.20, the output is asfollows:\n",
        "\n",
        "Token not dispensed.\n",
        "Remaining: NRs.10 \n",
        "passenger selects Route 1, and inserts NRs.100, the output is as follows:\n",
        "\n",
        "Route unavailable."
      ]
    },
    {
      "cell_type": "code",
      "metadata": {
        "id": "6dMn8TuAWvDq",
        "colab_type": "code",
        "outputId": "e390c3fa-1db1-49d1-9e30-6ad627bf48ca",
        "colab": {
          "base_uri": "https://localhost:8080/",
          "height": 153
        }
      },
      "source": [
        "def change(a,b):\n",
        "    c = a-b\n",
        "    d = [100,50,20,10,5]\n",
        "    print('Token dispensed.\\n\\nChange \\t  =  Rs. ' ,(a-b),'\\n')\n",
        "    print('notes:\\t\\tamount')\n",
        "    for k in d:\n",
        "        x = int(c/k)\n",
        "        if (x >= 1):\n",
        "            c=c-k*x\n",
        "            print(\"NRs\",k,  \"  \\t= \"  , x)\n",
        "\n",
        "def passenger(route, amount):\n",
        "    if (route == 2 and amount >= 30):\n",
        "        change(amount,30)\n",
        "    elif (route == 3 and amount >= 35):\n",
        "        change(amount,35)\n",
        "    else:\n",
        "        print('Route unavailable or insufficient amount.')\n",
        "        print('Try again')\n",
        "\n",
        "passenger(3,9325)"
      ],
      "execution_count": 0,
      "outputs": [
        {
          "output_type": "stream",
          "text": [
            "Token dispensed.\n",
            "\n",
            "Change \t  =  Rs.  9290 \n",
            "\n",
            "notes:\t\tamount\n",
            "NRs 100   \t=  92\n",
            "NRs 50   \t=  1\n",
            "NRs 20   \t=  2\n"
          ],
          "name": "stdout"
        }
      ]
    },
    {
      "cell_type": "code",
      "metadata": {
        "id": "7uV1pDf_WyUV",
        "colab_type": "code",
        "colab": {}
      },
      "source": [
        ""
      ],
      "execution_count": 0,
      "outputs": []
    },
    {
      "cell_type": "markdown",
      "metadata": {
        "id": "RZhiGG2pQgSu",
        "colab_type": "text"
      },
      "source": [
        "Other codes"
      ]
    },
    {
      "cell_type": "code",
      "metadata": {
        "id": "45PKV-4OQj8w",
        "colab_type": "code",
        "outputId": "2de0c1ea-938a-4f25-8ce0-567bfac01cce",
        "colab": {
          "base_uri": "https://localhost:8080/",
          "height": 35
        }
      },
      "source": [
        "A = [-1,-5,-7,98,99,100]\n",
        "print({i for i in A if i>0})"
      ],
      "execution_count": 0,
      "outputs": [
        {
          "output_type": "stream",
          "text": [
            "{98, 99, 100}\n"
          ],
          "name": "stdout"
        }
      ]
    },
    {
      "cell_type": "code",
      "metadata": {
        "id": "VtbAj6EJQlRX",
        "colab_type": "code",
        "outputId": "95562ca3-c14d-4ad2-b0fd-ba8202b3f35c",
        "colab": {
          "base_uri": "https://localhost:8080/",
          "height": 52
        }
      },
      "source": [
        "a = \"AAAAAA.\"\n",
        "l = [\"A\", \"B\", \"C\", \"D\"]\n",
        "\n",
        "b = \"\"\n",
        "\n",
        "def seed_check(a):\n",
        "    flag = True\n",
        "    for i in a:\n",
        "        if i not in l:\n",
        "            flag = False\n",
        "    if a == \"\":\n",
        "        flag = False\n",
        "    print(flag)\n",
        "\n",
        "seed_check(a)\n",
        "seed_check(b)"
      ],
      "execution_count": 0,
      "outputs": [
        {
          "output_type": "stream",
          "text": [
            "False\n",
            "False\n"
          ],
          "name": "stdout"
        }
      ]
    },
    {
      "cell_type": "code",
      "metadata": {
        "id": "PVg918w-Q6FA",
        "colab_type": "code",
        "outputId": "dbc9d2f8-bf04-4dc7-c109-7d9c27d6121a",
        "colab": {
          "base_uri": "https://localhost:8080/",
          "height": 35
        }
      },
      "source": [
        "import datetime\n",
        "print(datetime.datetime.strptime(str(datetime.date.today()), '%Y-%m-%d').strftime('%A'))"
      ],
      "execution_count": 0,
      "outputs": [
        {
          "output_type": "stream",
          "text": [
            "Tuesday\n"
          ],
          "name": "stdout"
        }
      ]
    },
    {
      "cell_type": "code",
      "metadata": {
        "id": "AGOJVz5fUarR",
        "colab_type": "code",
        "outputId": "196012af-a73a-4c66-bce3-9c8f5e953e5e",
        "colab": {
          "base_uri": "https://localhost:8080/",
          "height": 764
        }
      },
      "source": [
        "import string\n",
        "import datetime\n",
        "x = list(string.ascii_lowercase) + list(string.ascii_uppercase)\n",
        "\n",
        "for i in x:\n",
        "  j = datetime.datetime.strptime(str(datetime.date.today()), '%Y-%m-%d').strftime('%'+i)\n",
        "  if j != '%'+i:\n",
        "    print('%'+i+\"\\t\"+j)"
      ],
      "execution_count": 0,
      "outputs": [
        {
          "output_type": "stream",
          "text": [
            "%a\tTue\n",
            "%b\tJun\n",
            "%c\tTue Jun  9 00:00:00 2020\n",
            "%d\t09\n",
            "%e\t 9\n",
            "%f\t000000\n",
            "%g\t20\n",
            "%h\tJun\n",
            "%j\t161\n",
            "%k\t 0\n",
            "%l\t12\n",
            "%m\t06\n",
            "%n\t\n",
            "\n",
            "%p\tAM\n",
            "%r\t12:00:00 AM\n",
            "%s\t1591660800\n",
            "%t\t\t\n",
            "%u\t2\n",
            "%w\t2\n",
            "%x\t06/09/20\n",
            "%y\t20\n",
            "%z\t\n",
            "%A\tTuesday\n",
            "%B\tJune\n",
            "%C\t20\n",
            "%D\t06/09/20\n",
            "%F\t2020-06-09\n",
            "%G\t2020\n",
            "%H\t00\n",
            "%I\t12\n",
            "%M\t00\n",
            "%P\tam\n",
            "%R\t00:00\n",
            "%S\t00\n",
            "%T\t00:00:00\n",
            "%U\t23\n",
            "%V\t24\n",
            "%W\t23\n",
            "%X\t00:00:00\n",
            "%Y\t2020\n",
            "%Z\t\n"
          ],
          "name": "stdout"
        }
      ]
    },
    {
      "cell_type": "code",
      "metadata": {
        "id": "oBW-9rAXUcsG",
        "colab_type": "code",
        "outputId": "c507f651-5db6-41c2-c9b5-ef1f1fe524d2",
        "colab": {
          "base_uri": "https://localhost:8080/",
          "height": 124
        }
      },
      "source": [
        "import hashlib\n",
        "s = 'she sells sea shells by the sea shore'\n",
        "print(hashlib.md5(s.encode('utf-8')).hexdigest(), 16)\n",
        "print(int(hashlib.md5(s.encode('utf-8')).hexdigest(), 16))\n",
        "# print(int(hashlib.md5(s.encode('utf-8')).hexdigest(), 16) % 10**8)\n",
        "print(\"\\n\")\n",
        "print((hashlib.sha1(b'she sells sea shells by the sea shore').hexdigest()))\n",
        "print(int(hashlib.sha1(b'she sells sea shells by the sea shore').hexdigest(), 16))\n",
        "# print(int(hashlib.sha1(b'she sells sea shells by the sea shore').hexdigest(), 16) % (10 ** 8))"
      ],
      "execution_count": 0,
      "outputs": [
        {
          "output_type": "stream",
          "text": [
            "4802177d1a0542a502495dfe5655a8eb 16\n",
            "95715276697225180380311572012321843435\n",
            "\n",
            "\n",
            "adf112cb818ce5a284d049ab580f622363de5cce\n",
            "993031520216039365068706134034319674406158097614\n"
          ],
          "name": "stdout"
        }
      ]
    },
    {
      "cell_type": "code",
      "metadata": {
        "id": "eCecM0nCUdbx",
        "colab_type": "code",
        "outputId": "cce7787e-683b-4511-bfda-c546d591a211",
        "colab": {
          "base_uri": "https://localhost:8080/",
          "height": 35
        }
      },
      "source": [
        "int(hashlib.sha1(b'she sells sea shells by the sea shore').hexdigest(), 16) % 100000000"
      ],
      "execution_count": 0,
      "outputs": [
        {
          "output_type": "execute_result",
          "data": {
            "text/plain": [
              "58097614"
            ]
          },
          "metadata": {
            "tags": []
          },
          "execution_count": 27
        }
      ]
    },
    {
      "cell_type": "code",
      "metadata": {
        "id": "kKIWOjDrUgvQ",
        "colab_type": "code",
        "outputId": "3503ddec-58c3-4997-818f-a6ecfbaa3967",
        "colab": {
          "base_uri": "https://localhost:8080/",
          "height": 35
        }
      },
      "source": [
        "hash_object = hashlib.sha1(b'she sells sea shells by the sea shore')\n",
        "print(hash_object.hexdigest())"
      ],
      "execution_count": 0,
      "outputs": [
        {
          "output_type": "stream",
          "text": [
            "adf112cb818ce5a284d049ab580f622363de5cce\n"
          ],
          "name": "stdout"
        }
      ]
    },
    {
      "cell_type": "code",
      "metadata": {
        "id": "KHU756AMUjHj",
        "colab_type": "code",
        "outputId": "4d32032e-6a98-46f6-f399-188e0e5d5c52",
        "colab": {
          "base_uri": "https://localhost:8080/",
          "height": 52
        }
      },
      "source": [
        "from datetime import datetime\n",
        "import time\n",
        "\n",
        "ts = int(time.time())\n",
        "# ts = 1545730073\n",
        "dt_object = datetime.fromtimestamp(ts)\n",
        "print(\"dt_object =\", dt_object)\n",
        "print(\"type(dt_object) =\", type(dt_object))"
      ],
      "execution_count": 0,
      "outputs": [
        {
          "output_type": "stream",
          "text": [
            "dt_object = 2020-06-09 04:24:12\n",
            "type(dt_object) = <class 'datetime.datetime'>\n"
          ],
          "name": "stdout"
        }
      ]
    },
    {
      "cell_type": "code",
      "metadata": {
        "id": "dtObRSlnUk3G",
        "colab_type": "code",
        "outputId": "07f83799-7671-4596-f9a8-b7b690b27555",
        "colab": {
          "base_uri": "https://localhost:8080/",
          "height": 35
        }
      },
      "source": [
        "import time\n",
        "\n",
        "ts = int(time.time())\n",
        "print(ts)"
      ],
      "execution_count": 0,
      "outputs": [
        {
          "output_type": "stream",
          "text": [
            "1591676660\n"
          ],
          "name": "stdout"
        }
      ]
    },
    {
      "cell_type": "code",
      "metadata": {
        "id": "gb8-TWnoUmud",
        "colab_type": "code",
        "outputId": "cebd520d-1896-4882-a879-e62f13b5b503",
        "colab": {
          "base_uri": "https://localhost:8080/",
          "height": 35
        }
      },
      "source": [
        "d = {\"a\":1,\"b\":2}\n",
        "print(d[\"b\"])"
      ],
      "execution_count": 0,
      "outputs": [
        {
          "output_type": "stream",
          "text": [
            "2\n"
          ],
          "name": "stdout"
        }
      ]
    },
    {
      "cell_type": "code",
      "metadata": {
        "id": "0yYVs0XnUrDv",
        "colab_type": "code",
        "outputId": "9a09e64f-b381-4892-d5df-26b8dd493dbb",
        "colab": {
          "base_uri": "https://localhost:8080/",
          "height": 195
        }
      },
      "source": [
        "for i in range(10):\n",
        "  print(min(i,5))"
      ],
      "execution_count": 0,
      "outputs": [
        {
          "output_type": "stream",
          "text": [
            "0\n",
            "1\n",
            "2\n",
            "3\n",
            "4\n",
            "5\n",
            "5\n",
            "5\n",
            "5\n",
            "5\n"
          ],
          "name": "stdout"
        }
      ]
    },
    {
      "cell_type": "code",
      "metadata": {
        "id": "n0lrTFi9UsqS",
        "colab_type": "code",
        "outputId": "55c66116-7278-45cb-b4c5-4c75a6c3b0d9",
        "colab": {
          "base_uri": "https://localhost:8080/",
          "height": 35
        }
      },
      "source": [
        "import random\n",
        "random.randint(0,5)"
      ],
      "execution_count": 0,
      "outputs": [
        {
          "output_type": "execute_result",
          "data": {
            "text/plain": [
              "1"
            ]
          },
          "metadata": {
            "tags": []
          },
          "execution_count": 33
        }
      ]
    },
    {
      "cell_type": "code",
      "metadata": {
        "id": "T4EPm3QIUvjN",
        "colab_type": "code",
        "outputId": "87ca2486-b9c1-430a-a2d7-89795de985d1",
        "colab": {
          "base_uri": "https://localhost:8080/",
          "height": 52
        }
      },
      "source": [
        "import time\n",
        "from functools import wraps\n",
        "\n",
        "def hello_decorator(t): \n",
        "  def ss(func):\n",
        "    @wraps(func)\n",
        "    def inner1(*args):\n",
        "      print(f'FUNC {func}')\n",
        "      print(inner1)\n",
        "      time1 = time.time()\n",
        "      func(*args) \n",
        "      time_diff = time.time() - time1\n",
        "      if t: print(time_diff)\n",
        "    return inner1 \n",
        "  return ss\n",
        "\n",
        "@hello_decorator(False)\n",
        "def function_to_be_used(n): \n",
        "  # print(function_to_be_used)\n",
        "  for i in range(n):\n",
        "    pass \n",
        "\n",
        "# function_to_be_used = hello_decorator(function_to_be_used) \n",
        "# @hello_decorator\n",
        "function_to_be_used(1110) "
      ],
      "execution_count": 0,
      "outputs": [
        {
          "output_type": "stream",
          "text": [
            "FUNC <function function_to_be_used at 0x7fe8eef98ea0>\n",
            "<function function_to_be_used at 0x7fe8eef98f28>\n"
          ],
          "name": "stdout"
        }
      ]
    },
    {
      "cell_type": "code",
      "metadata": {
        "id": "bJcbUGh9UxPc",
        "colab_type": "code",
        "outputId": "eb7823b3-ebae-41e8-ad77-531d32d91d8c",
        "colab": {
          "base_uri": "https://localhost:8080/",
          "height": 35
        }
      },
      "source": [
        "str = \"task 123\"\n",
        "[int(s) for s in str.split() if s.isdigit()]"
      ],
      "execution_count": 0,
      "outputs": [
        {
          "output_type": "execute_result",
          "data": {
            "text/plain": [
              "[123]"
            ]
          },
          "metadata": {
            "tags": []
          },
          "execution_count": 35
        }
      ]
    },
    {
      "cell_type": "code",
      "metadata": {
        "id": "22XnKxQpU1Ag",
        "colab_type": "code",
        "outputId": "7f6fe619-93bf-4831-97a8-67b07cddd0ba",
        "colab": {
          "base_uri": "https://localhost:8080/",
          "height": 70
        }
      },
      "source": [
        "d = {\"a\":1,\"b\":2,\"c\":3}\n",
        "print(d)\n",
        "print(d.pop(\"a\"))\n",
        "print(d)"
      ],
      "execution_count": 0,
      "outputs": [
        {
          "output_type": "stream",
          "text": [
            "{'a': 1, 'b': 2, 'c': 3}\n",
            "1\n",
            "{'b': 2, 'c': 3}\n"
          ],
          "name": "stdout"
        }
      ]
    },
    {
      "cell_type": "code",
      "metadata": {
        "id": "Ki72UO8eU1gy",
        "colab_type": "code",
        "colab": {
          "base_uri": "https://localhost:8080/",
          "height": 35
        },
        "outputId": "a0bd0265-6621-4c33-8eee-1a9d14d177ad"
      },
      "source": [
        "def t(x):\n",
        "    if x[8:10] == \"AM\" and x[0:2] == \"12\":\n",
        "        return(\"00\"+x[2:8])\n",
        "    elif x[8:10] == \"PM\" and x[0:2] == \"12\":\n",
        "        return(x[0:8])\n",
        "    elif x[8:10] == \"PM\":\n",
        "        return(str(int(x[0:2])+12)+x[2:8])\n",
        "    return(x[0:8])\n",
        "    \n",
        "t(\"12:00:00PM\")"
      ],
      "execution_count": 2,
      "outputs": [
        {
          "output_type": "execute_result",
          "data": {
            "text/plain": [
              "'12:00:00'"
            ]
          },
          "metadata": {
            "tags": []
          },
          "execution_count": 2
        }
      ]
    },
    {
      "cell_type": "code",
      "metadata": {
        "id": "pLO3GPKQ4tK7",
        "colab_type": "code",
        "colab": {
          "base_uri": "https://localhost:8080/",
          "height": 126
        },
        "outputId": "479b8576-77ce-44cf-d79d-2fa481ed3d4f"
      },
      "source": [
        "topic = ['10101', '11100', '11010', '00101']\n",
        "\n",
        "from itertools import permutations as p\n",
        "for i in range(len(topic)):\n",
        "    print(list(p(topic,i)))\n",
        "    \n",
        "print(len(list(p(topic,2))))"
      ],
      "execution_count": 1,
      "outputs": [
        {
          "output_type": "stream",
          "text": [
            "[()]\n",
            "[('10101',), ('11100',), ('11010',), ('00101',)]\n",
            "[('10101', '11100'), ('10101', '11010'), ('10101', '00101'), ('11100', '10101'), ('11100', '11010'), ('11100', '00101'), ('11010', '10101'), ('11010', '11100'), ('11010', '00101'), ('00101', '10101'), ('00101', '11100'), ('00101', '11010')]\n",
            "[('10101', '11100', '11010'), ('10101', '11100', '00101'), ('10101', '11010', '11100'), ('10101', '11010', '00101'), ('10101', '00101', '11100'), ('10101', '00101', '11010'), ('11100', '10101', '11010'), ('11100', '10101', '00101'), ('11100', '11010', '10101'), ('11100', '11010', '00101'), ('11100', '00101', '10101'), ('11100', '00101', '11010'), ('11010', '10101', '11100'), ('11010', '10101', '00101'), ('11010', '11100', '10101'), ('11010', '11100', '00101'), ('11010', '00101', '10101'), ('11010', '00101', '11100'), ('00101', '10101', '11100'), ('00101', '10101', '11010'), ('00101', '11100', '10101'), ('00101', '11100', '11010'), ('00101', '11010', '10101'), ('00101', '11010', '11100')]\n",
            "12\n"
          ],
          "name": "stdout"
        }
      ]
    },
    {
      "cell_type": "code",
      "metadata": {
        "id": "hmsBFA9040b7",
        "colab_type": "code",
        "colab": {
          "base_uri": "https://localhost:8080/",
          "height": 52
        },
        "outputId": "74962094-d8f1-4abf-b413-945836570f05"
      },
      "source": [
        "i = [1,2,3,4,5]\n",
        "\n",
        "from itertools import combinations as com\n",
        "\n",
        "com = com(i,4)\n",
        "h = [sum(i) for i in list(com)]\n",
        "print(max(h))\n",
        "print(min(h))"
      ],
      "execution_count": 3,
      "outputs": [
        {
          "output_type": "stream",
          "text": [
            "14\n",
            "10\n"
          ],
          "name": "stdout"
        }
      ]
    },
    {
      "cell_type": "code",
      "metadata": {
        "id": "fu2ByMFU44Dn",
        "colab_type": "code",
        "colab": {
          "base_uri": "https://localhost:8080/",
          "height": 88
        },
        "outputId": "d549c0ee-e6d2-4655-a7cf-c44a1f89f4d7"
      },
      "source": [
        "x  = [73, 67, 38, 33]\n",
        "for i in x:\n",
        "    if i > 37:\n",
        "        if ((i//5)+1)*5 - i < 3:\n",
        "            print(((i//5)+1)*5)\n",
        "        else:\n",
        "            print(i)\n",
        "    else:\n",
        "        print(i)\n",
        "        "
      ],
      "execution_count": 4,
      "outputs": [
        {
          "output_type": "stream",
          "text": [
            "75\n",
            "67\n",
            "40\n",
            "33\n"
          ],
          "name": "stdout"
        }
      ]
    },
    {
      "cell_type": "code",
      "metadata": {
        "id": "ZTlzI5R246sG",
        "colab_type": "code",
        "colab": {
          "base_uri": "https://localhost:8080/",
          "height": 52
        },
        "outputId": "adbafea1-5708-436a-9e52-3964b220b0e5"
      },
      "source": [
        "from itertools import combinations as p\n",
        "x = list(p(topic,2))\n",
        "l = []\n",
        "t = 0\n",
        "for j in x:\n",
        "    a = j[0]\n",
        "    b = j[1]\n",
        "    c = 0\n",
        "    \n",
        "    for i in range(len(a)):\n",
        "        if a[i] == \"1\" or b[i]== \"1\":\n",
        "            c = c + 1 \n",
        "    t = t+1\n",
        "    l.append(c)\n",
        "# print(l)\n",
        "\n",
        "tk = 0\n",
        "for i in l:\n",
        "    if i == max(l):\n",
        "        tk= tk +1\n",
        "print(max(l))\n",
        "print(tk)\n"
      ],
      "execution_count": 5,
      "outputs": [
        {
          "output_type": "stream",
          "text": [
            "5\n",
            "2\n"
          ],
          "name": "stdout"
        }
      ]
    },
    {
      "cell_type": "code",
      "metadata": {
        "id": "1eiKrhfr4_qi",
        "colab_type": "code",
        "colab": {
          "base_uri": "https://localhost:8080/",
          "height": 675
        },
        "outputId": "5a4283b5-5555-4359-f93f-9cd1ce69408c"
      },
      "source": [
        "for i in range(1,10):\n",
        "    x = 10-i\n",
        "    s = \"\"\n",
        "    for j in range(x):\n",
        "        s = s + \" \"\n",
        "    for k in range(i):\n",
        "        s = s + \"*\"\n",
        "    print(s)\n",
        "\n",
        "\n",
        "\n",
        "for i in range(1,10):\n",
        "    x = 10-i\n",
        "    s = \"\"\n",
        "    for j in range(x):\n",
        "        s = s + \"*\"\n",
        "    for k in range(i):\n",
        "        s = s + \" \"\n",
        "    print(s)\n",
        "\n",
        "\n",
        "\n",
        "s = \"\"\n",
        "for i in range(10):\n",
        "    s = s+\"*\"\n",
        "    print(s)\n",
        "\n",
        "\n",
        "\n",
        "for i in range(1,10):\n",
        "    x = 10-i\n",
        "    s = \"\"\n",
        "    for k in range(i):\n",
        "        s = s + \" \"\n",
        "\n",
        "    for j in range(x):\n",
        "        s = s + \"*\"\n",
        "    print(s)"
      ],
      "execution_count": 7,
      "outputs": [
        {
          "output_type": "stream",
          "text": [
            "         *\n",
            "        **\n",
            "       ***\n",
            "      ****\n",
            "     *****\n",
            "    ******\n",
            "   *******\n",
            "  ********\n",
            " *********\n",
            "********* \n",
            "********  \n",
            "*******   \n",
            "******    \n",
            "*****     \n",
            "****      \n",
            "***       \n",
            "**        \n",
            "*         \n",
            "*\n",
            "**\n",
            "***\n",
            "****\n",
            "*****\n",
            "******\n",
            "*******\n",
            "********\n",
            "*********\n",
            "**********\n",
            " *********\n",
            "  ********\n",
            "   *******\n",
            "    ******\n",
            "     *****\n",
            "      ****\n",
            "       ***\n",
            "        **\n",
            "         *\n"
          ],
          "name": "stdout"
        }
      ]
    },
    {
      "cell_type": "code",
      "metadata": {
        "id": "yr_U8oe55Ei2",
        "colab_type": "code",
        "colab": {
          "base_uri": "https://localhost:8080/",
          "height": 52
        },
        "outputId": "6291fb60-d882-4e80-d1f1-e7c3526edce0"
      },
      "source": [
        "a = [[1,2,-3],\n",
        "     [4,5,6],\n",
        "     [-7,8,9]]\n",
        "\n",
        "print([a[-(i+1)][i] for i in range(len(a))])\n",
        "print([a[i][i] for i in range(len(a))])"
      ],
      "execution_count": 8,
      "outputs": [
        {
          "output_type": "stream",
          "text": [
            "[-7, 5, -3]\n",
            "[1, 5, 9]\n"
          ],
          "name": "stdout"
        }
      ]
    },
    {
      "cell_type": "code",
      "metadata": {
        "id": "4PFoVUGB5PTZ",
        "colab_type": "code",
        "colab": {}
      },
      "source": [
        ""
      ],
      "execution_count": 0,
      "outputs": []
    }
  ]
}